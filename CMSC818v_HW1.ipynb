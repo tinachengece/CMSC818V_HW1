{
  "cells": [
    {
      "cell_type": "markdown",
      "metadata": {
        "colab_type": "text",
        "id": "view-in-github"
      },
      "source": [
        "<a href=\"https://colab.research.google.com/github/tinachengece/CMSC818V_HW1/blob/main/CMSC818v_HW1.ipynb\" target=\"_parent\"><img src=\"https://colab.research.google.com/assets/colab-badge.svg\" alt=\"Open In Colab\"/></a>"
      ]
    },
    {
      "cell_type": "markdown",
      "metadata": {
        "id": "j7Jba4Pl3cOc"
      },
      "source": [
        "*UIDs:* 121088628 /"
      ]
    },
    {
      "cell_type": "markdown",
      "metadata": {
        "id": "2hTdZfoj3gzx"
      },
      "source": [
        "# **CMSC818v Homework 1: Tactile Depth Estimation**\n"
      ]
    },
    {
      "cell_type": "markdown",
      "metadata": {
        "id": "PBmN2f963tDd"
      },
      "source": [
        "## Objective\n",
        "\n",
        "In this project we want to use deep neural networks to predict 3D contact geometry from monocular images of a vision-based tactile sensor."
      ]
    },
    {
      "cell_type": "markdown",
      "metadata": {
        "id": "roJp2ogt7MaS"
      },
      "source": [
        "# Background\n",
        "\n",
        "  - **Tactile sensors** are devices designed to measure information arising from the physical interaction of robots with their environment. These sensors excel in detecting stimuli resulting from mechanical stimulation, temperature variations, and even pain-like responses.\n",
        "<p align=\"center\">\n",
        "  <img src=\"https://drive.google.com/uc?export=view&id=1dBNV2bzJVY4bS70TljKFSjzn7X40vY70\" alt=\"Digit on allgero\" width=\"450\"/>\n",
        "</p>\n",
        "However, recent sensor developments in this field, often inspired by the biological sense of cutaneous touch, have predominantly concentrated on capturing the 3D geometry of contact. In this project, we aim to extend this focus to predicting such interactions, particularly for GelSight tactile sensors. The figure below illustrates the resolution of tactile sensors when they come into contact with various objects\n",
        "<p align=\"center\">\n",
        "  <img src=\"https://drive.google.com/uc?export=view&id=1JtePPB9wisU5XdIZ56P_Omo_84QZmFGk\" alt=\"Digit images\"/>\n",
        "</p>\n",
        "The papers below contain crucial information on how these sensors work, which could be helpful for success in this project <br>\n",
        "<a href=\"http://gelsight.csail.mit.edu/wedge/ICRA2021_Wedge.pdf\"> GelSight Wedge: Measuring High-Resolution 3D Contact Geometry with a Compact Robot Finger</a><br>\n",
        "<a href=\"https://arxiv.org/pdf/2005.14679.pdf\">DIGIT: A Novel Design for a Low-Cost Compact\n",
        "High-Resolution Tactile Sensor with Application to\n",
        "In-Hand Manipulation</a>\n",
        "\n",
        "- **Depth Prediction** is the task of measuring the distance of each pixel relative to the camera. Depth is extracted from either monocular (single) or stereo (multiple views of a scene) images. Traditional methods use multi-view geometry to find the relationship between the images. Newer methods can directly estimate depth by minimizing the regression loss, or by learning to generate a novel view from a sequence. *You can also watch one of the recent works on reconstructing objects with tactile sensors on [YouTube](https://www.youtube.com/watch?v=38utg590wao)*.\n",
        "\n",
        "\n",
        "## Objective\n",
        "In this project, we aim to acquire the inverse sensor model to reconstruct local 3D geometry from a tactile image. The task involves training the model in a supervised manner to predict local heightmaps and contact areas from tactile images. While one potential strategy involves integrating depth and contact prediction within a stacked neural network, such as outlined in [Depth Map Prediction from a Single Image using a Multi-Scale Deep Network](https://arxiv.org/pdf/1406.2283.pdf), we encourage you to develop a working program for the specific challenges of the problem."
      ]
    },
    {
      "cell_type": "markdown",
      "metadata": {
        "id": "ZgobK5wdCU7x"
      },
      "source": [
        "## Step 1: Data-loading *(10 points)*\n",
        "Create a custom program to read images from the [provided dataset](https://drive.google.com/drive/folders/16BcGTVkj4s0y9kWM9vIFo40MdPjRRv7L?usp=drive_link). You might need to preprocess the data as these are raw tactile readings from sensor without any normalization. For further guidance, refer to the [PyTorch tutorial](https://pytorch.org/tutorials/beginner/data_loading_tutorial.html)."
      ]
    },
    {
      "cell_type": "code",
      "execution_count": 36,
      "metadata": {
        "colab": {
          "base_uri": "https://localhost:8080/"
        },
        "id": "Db3PwLsjB8Pz",
        "outputId": "34807a9b-3910-4c78-c770-72e1899730f3"
      },
      "outputs": [
        {
          "name": "stdout",
          "output_type": "stream",
          "text": [
            "  Skipping test (missing tactile/ or depth/ folder)\n",
            "963\n"
          ]
        }
      ],
      "source": [
        "import torch\n",
        "import torch.nn as nn\n",
        "import torch.nn.functional as F\n",
        "import torchvision\n",
        "from torchvision import transforms, utils\n",
        "from skimage import transform\n",
        "from torch.utils.data import Dataset, DataLoader\n",
        "import numpy as np\n",
        "import matplotlib.pyplot as plt\n",
        "from IPython.core.pylabtools import figsize\n",
        "import time\n",
        "import os\n",
        "import re\n",
        "import tqdm\n",
        "import random\n",
        "from imageio import imread\n",
        "from pathlib import Path\n",
        "from PIL import Image, ImageFile\n",
        "import shutil\n",
        "import glob\n",
        "\n",
        "def load_and_convert_depth(src_path: Path) -> Image.Image:\n",
        "    # Load a depth file (.png or .npy), normalize to uint8 0–255, return a PIL image.\n",
        "\n",
        "    if src_path.suffix.lower() == \".npy\":\n",
        "        depth = np.load(src_path)\n",
        "    else:\n",
        "        # Load image as array\n",
        "        depth = np.array(Image.open(src_path))\n",
        "\n",
        "    # Normalize\n",
        "    depth_min, depth_max = np.min(depth), np.max(depth)\n",
        "    if depth_max > depth_min:\n",
        "        depth_norm = (depth - depth_min) / (depth_max - depth_min)\n",
        "    else:\n",
        "        depth_norm = np.zeros_like(depth, dtype=float)\n",
        "\n",
        "    depth_uint8 = (depth_norm * 255).astype(np.uint8)\n",
        "    return Image.fromarray(depth_uint8)\n",
        "\n",
        "\n",
        "class TactileDataset(Dataset):\n",
        "\n",
        "    def __init__(self, tactile_dir, depth_dir, transform=None):\n",
        "        super(TactileDataset, self).__init__()\n",
        "\n",
        "        self.tactile_dir = tactile_dir\n",
        "        self.depth_dir = depth_dir\n",
        "        self.transform = transform\n",
        "\n",
        "        self.tactile_files = sorted(os.listdir(self.tactile_dir))\n",
        "        self.depth_files = sorted(os.listdir(self.depth_dir))\n",
        "\n",
        "    def __len__(self):\n",
        "        return len(os.listdir(self.tactile_dir))\n",
        "\n",
        "    def __getitem__(self, idx):\n",
        "        tactile_path = os.path.join(self.tactile_dir, self.tactile_files[idx])\n",
        "        depth_path = os.path.join(self.depth_dir, self.depth_files[idx])\n",
        "\n",
        "        # read as PIL images\n",
        "        tactile_sample = Image.open(tactile_path).convert(\"RGB\")\n",
        "        depth_sample = Image.open(depth_path).convert(\"L\")  # grayscale depth image\n",
        "\n",
        "        depth_np = np.array(depth_sample, dtype=np.float32)\n",
        "        contact_np = (depth_np > 0).astype(np.uint8) * 255\n",
        "        contact_sample = Image.fromarray(contact_np) # conatct sample can be retrieved from depth_sample where depth is greater than 0\n",
        "\n",
        "         # resize depth image if needed\n",
        "        if tactile_sample.size != depth_sample.size:\n",
        "            depth_sample = depth_sample.resize(tactile_sample.size, Image.BILINEAR)\n",
        "\n",
        "        # train transform\n",
        "        seed = random.randint(0, 2 ** 32)\n",
        "        if self.transform:\n",
        "            random.seed(seed)\n",
        "            tactile_sample = self.transform(tactile_sample)\n",
        "\n",
        "            random.seed(seed)\n",
        "            depth_sample = self.transform(depth_sample)\n",
        "\n",
        "            random.seed(seed)\n",
        "            contact_sample = self.transform(contact_sample)\n",
        "        else:\n",
        "            tactile_sample = transforms.ToTensor()(tactile_sample)\n",
        "            depth_sample = transforms.ToTensor()(depth_sample)\n",
        "            contact_sample = transforms.ToTensor()(contact_sample)\n",
        "\n",
        "        # calculate contact mask based on depth\n",
        "\n",
        "\n",
        "        # convert to torch tensor\n",
        "        sample = {'tactile':tactile_sample, 'depth': depth_sample, 'contact': contact_sample}\n",
        "\n",
        "        return sample\n",
        "\n",
        "# Add some transformation based on your choice that suits the diversity you expect to see during testing. This step is one of the most important parts that can affect the model's performance.\n",
        "# you can check https://pytorch.org/vision/stable/transforms.html for existing augmentations\n",
        "trans_train = transforms.Compose([\n",
        "    transforms.Resize((320, 240)),\n",
        "    transforms.ToTensor()\n",
        "])\n",
        "\n",
        "trans_test = transforms.Compose([\n",
        "    transforms.Resize((320,240)), # resize to training images shape\n",
        "    transforms.ToTensor()\n",
        "])\n",
        "\n",
        "## load data\n",
        "root_dir = Path(r\"/content/mini_depth_dataset\")\n",
        "\n",
        "# Create new folders to store the organized data\n",
        "data_dir_train = Path(r\"/content/mini_depth_dataset_processed/training\")\n",
        "data_dir_train.mkdir(parents=True, exist_ok=True)\n",
        "(data_dir_train / \"tactile\").mkdir(parents=True, exist_ok=True)\n",
        "(data_dir_train / \"depth\").mkdir(parents=True, exist_ok=True)\n",
        "data_dir_valid = Path(r\"/content/mini_depth_dataset_processed/validation\")\n",
        "data_dir_valid.mkdir(parents=True, exist_ok=True)\n",
        "(data_dir_valid / \"tactile\").mkdir(parents=True, exist_ok=True)\n",
        "(data_dir_valid / \"depth\").mkdir(parents=True, exist_ok=True)\n",
        "\n",
        "\n",
        "for category_dir in sorted(root_dir.iterdir()):\n",
        "    if category_dir.is_dir():\n",
        "        tactile_dir = category_dir / \"tactile\"\n",
        "        depth_dir = category_dir / \"depth\"\n",
        "\n",
        "        # print(f\"\\nCategory: {category_dir.name}\")\n",
        "\n",
        "        # Check if both subfolders exist\n",
        "        if tactile_dir.exists() and depth_dir.exists():\n",
        "            # List files\n",
        "            tactile_files = [f for f in tactile_dir.iterdir() if f.is_file()]\n",
        "            depth_files   = [f for f in depth_dir.iterdir() if f.is_file()]\n",
        "\n",
        "            # Compare by filename stem (the name without extension)\n",
        "            tactile_stems = {f.stem for f in tactile_files}\n",
        "            depth_stems   = {f.stem for f in depth_files}\n",
        "\n",
        "            # Find files that exist in both\n",
        "            matched_stems = sorted(tactile_stems.intersection(depth_stems))\n",
        "            # print(f\"{category_dir.name}: {len(matched_stems)} matched pairs found\")\n",
        "\n",
        "            # Split into training and validation\n",
        "            random.seed(42)\n",
        "            random.shuffle(matched_stems)\n",
        "            split_idx = int(0.7 * len(matched_stems))\n",
        "            train_stems = matched_stems[:split_idx]\n",
        "            valid_stems  = matched_stems[split_idx:]\n",
        "\n",
        "            # Copy matched files\n",
        "            for stem in train_stems:\n",
        "                # Find full path for each file\n",
        "                tactile_file = next(tactile_dir.glob(stem + \".*\"))\n",
        "                depth_file   = next(depth_dir.glob(stem + \".*\"))\n",
        "\n",
        "                # Convert and save depth file as uint8 .png\n",
        "                depth_img = load_and_convert_depth(depth_file)\n",
        "\n",
        "                tactile_file_new_name = f\"{category_dir.name}_{tactile_file.name}\"\n",
        "                depth_file_new_name = f\"{category_dir.name}_{stem}\" + \".png\"  # all depth files will now be .png\n",
        "\n",
        "                shutil.copy(tactile_file, (data_dir_train / \"tactile\") / tactile_file_new_name)\n",
        "                depth_img.save(data_dir_train / \"depth\" / depth_file_new_name)\n",
        "\n",
        "            for stem in valid_stems:\n",
        "                # Find full path for each file\n",
        "                tactile_file = next(tactile_dir.glob(stem + \".*\"))\n",
        "                depth_file   = next(depth_dir.glob(stem + \".*\"))\n",
        "\n",
        "                # Convert and save depth file as uint8 .png\n",
        "                depth_img = load_and_convert_depth(depth_file)\n",
        "\n",
        "                tactile_file_new_name = f\"{category_dir.name}_{tactile_file.name}\"\n",
        "                depth_file_new_name = f\"{category_dir.name}_{stem}\" + \".png\"  # all depth files will now be .png\n",
        "\n",
        "                shutil.copy(tactile_file, (data_dir_valid / \"tactile\") / tactile_file_new_name)\n",
        "                depth_img.save(data_dir_valid / \"depth\" / depth_file_new_name)\n",
        "        else:\n",
        "              print(f\"  Skipping {category_dir.name} (missing tactile/ or depth/ folder)\")\n",
        "\n",
        "bs = 8\n",
        "\n",
        "dataset_train = TactileDataset(data_dir_train / 'tactile', data_dir_train / 'depth', transform=trans_train)\n",
        "dataloader_train = DataLoader(dataset_train, batch_size=bs, shuffle=True)\n",
        "\n",
        "dataset_valid = TactileDataset(data_dir_valid / 'tactile', data_dir_valid / 'depth', transform=trans_test)\n",
        "dataloader_valid = DataLoader(dataset_valid, batch_size=bs, shuffle=True)\n",
        "\n",
        "datalen_train = len(dataset_train)\n",
        "datalen_valid = len(dataset_valid)\n",
        "\n",
        "# print(datalen_train, datalen_valid)\n",
        "print(datalen_train)\n"
      ]
    },
    {
      "cell_type": "markdown",
      "metadata": {
        "id": "ie1cAAFjGXRy"
      },
      "source": [
        "## Step 2: Network Design *(40 point)*\n",
        "Design the neural network, incorporating various [layers](https://pytorch.org/docs/stable/nn.html). Additionally, consider initializing the layer weights using predefined [PyTorch initializers](https://pytorch.org/docs/stable/nn.init.html). Inpired by [1], you may use Coarse network for contact prediction and a Fine network for depth prediction, providing higher resolution.\n",
        "<p align=\"center\">\n",
        "  <img src=\"https://drive.google.com/uc?export=view&id=1_IJxSfYNjsU6wkE0QwSMF4LSvENuJPRL\" alt=\"Digit images\"/>\n",
        "</p>\n"
      ]
    },
    {
      "cell_type": "code",
      "execution_count": 37,
      "metadata": {
        "colab": {
          "base_uri": "https://localhost:8080/"
        },
        "id": "i661yrn_FXdG",
        "outputId": "b1cd7141-0c19-4a55-ac64-f10560d28195"
      },
      "outputs": [
        {
          "name": "stdout",
          "output_type": "stream",
          "text": [
            "ContactNet(\n",
            "  (conv1): Conv2d(3, 96, kernel_size=(11, 11), stride=(4, 4), padding=(5, 5))\n",
            "  (pool1): MaxPool2d(kernel_size=2, stride=2, padding=0, dilation=1, ceil_mode=False)\n",
            "  (conv2): Conv2d(96, 256, kernel_size=(5, 5), stride=(1, 1), padding=(2, 2))\n",
            "  (pool2): MaxPool2d(kernel_size=2, stride=2, padding=0, dilation=1, ceil_mode=False)\n",
            "  (conv3): Conv2d(256, 384, kernel_size=(3, 3), stride=(1, 1), padding=(1, 1))\n",
            "  (conv4): Conv2d(384, 384, kernel_size=(3, 3), stride=(1, 1), padding=(1, 1))\n",
            "  (conv5): Conv2d(384, 256, kernel_size=(3, 3), stride=(1, 1), padding=(1, 1))\n",
            "  (fc1): Linear(in_features=76800, out_features=4096, bias=True)\n",
            "  (fc2): Linear(in_features=4096, out_features=300, bias=True)\n",
            ")\n"
          ]
        }
      ],
      "source": [
        "device = torch.device(\"cuda\" if torch.cuda.is_available() else \"cpu\")\n",
        "\n",
        "## Coarse network for contact prediction\n",
        "class ContactNet(nn.Module):\n",
        "\n",
        "    def __init__(self, init = True):\n",
        "      super(ContactNet, self).__init__()\n",
        "\n",
        "      # define your network layers that takes tactile image and outputs the predicted contact mask\n",
        "      self.conv1 = nn.Conv2d(3,   96, kernel_size=11, stride=4, padding=5)\n",
        "      self.pool1 = nn.MaxPool2d(2)\n",
        "      self.conv2 = nn.Conv2d(96, 256, kernel_size=5,  padding=2)\n",
        "      self.pool2 = nn.MaxPool2d(2)\n",
        "      self.conv3 = nn.Conv2d(256,384, kernel_size=3, padding=1)\n",
        "      self.conv4 = nn.Conv2d(384,384, kernel_size=3, padding=1)\n",
        "      self.conv5 = nn.Conv2d(384,256, kernel_size=3, padding=1)\n",
        "      self.fc1 = nn.Linear(256*20*15, 4096)\n",
        "      self.fc2 = nn.Linear(4096, 20*15)\n",
        "\n",
        "      def _init_weights(self):\n",
        "        for m in self.modules():\n",
        "          if isinstance(m, nn.Conv2d):\n",
        "            nn.init.kaiming_normal_(m.weight, nonlinearity=\"relu\")\n",
        "            if m.bias is not None: nn.init.zeros_(m.bias)\n",
        "          if isinstance(m, nn.Linear):\n",
        "                      nn.init.xavier_uniform_(m.weight)\n",
        "                      nn.init.zeros_(m.bias)\n",
        "\n",
        "          if init:\n",
        "            # Initialize the weights\n",
        "            self._init_weights()\n",
        "\n",
        "    def forward(self, x):\n",
        "      #implement the forward pass to predict the contact\n",
        "      x = F.relu(self.conv1(x))\n",
        "      x = self.pool1(x)\n",
        "      x = F.relu(self.conv2(x))\n",
        "      x = self.pool2(x)\n",
        "      x = F.relu(self.conv3(x))\n",
        "      x = F.relu(self.conv4(x))\n",
        "      x = F.relu(self.conv5(x))\n",
        "\n",
        "      B = x.size(0)\n",
        "      x = x.view(B, -1)\n",
        "      x = F.relu(self.fc1(x))\n",
        "      coarse = self.fc2(x)\n",
        "      coarse = coarse.view(B, 1, 20, 15)\n",
        "\n",
        "      ## Upsample to match [B,1,80,60]\n",
        "      coarse_up = F.interpolate(coarse, size=(320, 240), mode=\"bilinear\", align_corners=False)\n",
        "      contact = torch.sigmoid(coarse_up)\n",
        "\n",
        "      return contact #return contact\n",
        "\n",
        "## Fine network for depth prediction\n",
        "class TactileDepthNet(nn.Module):\n",
        "\n",
        "    def __init__(self, init=True):\n",
        "        super(TactileDepthNet, self).__init__()\n",
        "        # define your network layers that takes tactile image and outputs the predicted depth (heightmap)\n",
        "        self.f1 = nn.Conv2d(3, 63, kernel_size=9, stride=2, padding=4)\n",
        "        self.p1 = nn.MaxPool2d(2)\n",
        "        ## Coarse concatenated here\n",
        "        self.f2 = nn.Conv2d(64, 64, kernel_size=5, padding=2)\n",
        "        self.f3 = nn.Conv2d(64, 64, kernel_size=5, padding=2)\n",
        "\n",
        "        self.out = nn.Conv2d(64, 1, kernel_size=5, padding=2)\n",
        "\n",
        "        def _init_weights(self):\n",
        "            for m in self.modules():\n",
        "                if isinstance(m, nn.Conv2d):\n",
        "                    nn.init.kaiming_normal_(m.weight, nonlinearity=\"relu\")\n",
        "                    if m.bias is not None: nn.init.zeros_(m.bias)\n",
        "            if init:\n",
        "              # Initialize the weights\n",
        "              self._init_weights()\n",
        "\n",
        "    def forward(self, x, coarse_lowres):\n",
        "        b, _, H, W = x.shape\n",
        "        y = F.relu(self.f1(x))\n",
        "        y = self.p1(y)\n",
        "        coarse_for_concat = F.interpolate(coarse_lowres, size=(80,60), mode=\"bilinear\", align_corners=False)\n",
        "        y = torch.cat([y, coarse_for_concat], dim=1)\n",
        "        y = F.relu(self.f2(y))\n",
        "        y = F.relu(self.f3(y))\n",
        "        y = self.out(y)                 # [B,1,80,60]\n",
        "        depth = F.interpolate(y, size=(H, W), mode=\"bilinear\", align_corners=False)\n",
        "\n",
        "        return depth #return depth\n",
        "\n",
        "# initialize\n",
        "contact_model = ContactNet().to(device)\n",
        "tactile_depth_model = TactileDepthNet().to(device)\n",
        "\n",
        "print(contact_model)"
      ]
    },
    {
      "cell_type": "markdown",
      "metadata": {
        "id": "Pm32-lpXJuN-"
      },
      "source": [
        "## Step 3: Loss Function *(10 points)*\n"
      ]
    },
    {
      "cell_type": "code",
      "execution_count": 38,
      "metadata": {
        "id": "Bl_mvm8JJtlx"
      },
      "outputs": [],
      "source": [
        "class Loss(nn.Module):\n",
        "  def __init__(self, task=\"depth\"):\n",
        "        super(Loss, self).__init__()\n",
        "        self.task = task\n",
        "\n",
        "        if task == \"depth\":\n",
        "            # continuous regression: Use L1 Loss\n",
        "            self.loss_fn = nn.L1Loss()\n",
        "        elif task == \"contact\":\n",
        "            # binary segmentation: Use BCE Loss\n",
        "            self.loss_fn = nn.BCEWithLogitsLoss()\n",
        "        else:\n",
        "            raise ValueError(f\"Unknown task type: {task}\")\n",
        "\n",
        "  def forward(self, pred, target):\n",
        "      # define the loss function based on the task and your expection of network's output\n",
        "      #target = target.to(dtype=pred.dtype)\n",
        "      loss = self.loss_fn(pred, target)\n",
        "      return loss\n",
        "\n",
        "#criterion\n",
        "contact_criterion = Loss(task=\"contact\")      # for contact mask\n",
        "tactile_depth_criterion = Loss(task=\"depth\")  # for heightmap/depth\n",
        "\n",
        "# optimizer\n",
        "contact_optimizer = torch.optim.Adam(contact_model.parameters(), lr=1e-4)\n",
        "#contact_optimizer = torch.optim.\n",
        "tactile_depth_optimizer = torch.optim.Adam(tactile_depth_model.parameters(), lr=1e-4)\n",
        "\n",
        "#tactile_depth_optimizer = torch.optim.\n",
        "\n",
        "# data parallel\n",
        "# contact_model = nn.DataParallel(contact_model)\n",
        "# tactile_depth_model = nn.DataParallel(tactile_depth_model)"
      ]
    },
    {
      "cell_type": "code",
      "execution_count": 39,
      "metadata": {
        "id": "i1NK7kZ4LSwZ"
      },
      "outputs": [],
      "source": [
        "def plot_losses(train_losses, valid_losses):\n",
        "    plt.plot(train_losses, label='train losses')\n",
        "    plt.plot(valid_losses, label='valid losses')\n",
        "\n",
        "    plt.xlabel(\"Iterations\")\n",
        "    plt.ylabel(\"Losses\")\n",
        "\n",
        "    plt.legend()\n",
        "    plt.title(\"Losses\")\n",
        "    plt.grid(True)"
      ]
    },
    {
      "cell_type": "markdown",
      "metadata": {
        "id": "PIq9R2ZBLkEq"
      },
      "source": [
        "## Step 4: Training Networks *(30 points)*"
      ]
    },
    {
      "cell_type": "code",
      "execution_count": 40,
      "metadata": {
        "colab": {
          "base_uri": "https://localhost:8080/",
          "height": 541
        },
        "id": "7fKKVtAeLjRW",
        "outputId": "2c031a5a-adb4-4179-85ae-281648122b58"
      },
      "outputs": [
        {
          "name": "stderr",
          "output_type": "stream",
          "text": [
            "\r  0%|          | 0/1 [00:00<?, ?it/s]"
          ]
        },
        {
          "name": "stdout",
          "output_type": "stream",
          "text": [
            "\n",
            "Epoch [1/1]\n"
          ]
        },
        {
          "name": "stderr",
          "output_type": "stream",
          "text": [
            "100%|██████████| 1/1 [09:28<00:00, 568.80s/it]\n"
          ]
        },
        {
          "name": "stdout",
          "output_type": "stream",
          "text": [
            "Time used (Sec):  568.8060343265533  per epoch used:  568.8060343265533\n"
          ]
        },
        {
          "data": {
            "image/png": "[encoded data removed]",
            "text/plain": [
              "<Figure size 640x480 with 1 Axes>"
            ]
          },
          "metadata": {},
          "output_type": "display_data"
        }
      ],
      "source": [
        "num_epochs = 1\n",
        "\n",
        "## Contact Model\n",
        "train_losses = []\n",
        "valid_losses = []\n",
        "tl_b = []\n",
        "\n",
        "start = time.time()\n",
        "for epoch in tqdm.tqdm(range(num_epochs)):\n",
        "    print(f\"\\nEpoch [{epoch+1}/{num_epochs}]\")\n",
        "\n",
        "    # --- TRAINING ---\n",
        "    train_loss = 0\n",
        "    contact_model.train()\n",
        "    for i, samples in enumerate(dataloader_train):\n",
        "\n",
        "        tactiles = samples['tactile'].float().to(device)\n",
        "        contacts = samples['contact'].float().to(device)\n",
        "\n",
        "        # forward pass\n",
        "        output = contact_model(tactiles)\n",
        "\n",
        "        # compute contact loss\n",
        "        loss = contact_criterion(output, contacts)\n",
        "\n",
        "        # backward pass\n",
        "        contact_optimizer.zero_grad()\n",
        "        loss.backward()\n",
        "        contact_optimizer.step()\n",
        "\n",
        "        # optimization\n",
        "        train_loss += loss.item()\n",
        "        tl_b.append(loss.item())\n",
        "\n",
        "    train_losses.append(train_loss / datalen_train)\n",
        "\n",
        "    # --- VALIDATION ---\n",
        "    valid_loss = 0\n",
        "    contact_model.eval()\n",
        "    with torch.no_grad():\n",
        "        for i, samples in enumerate(dataloader_valid):\n",
        "\n",
        "            tactiles = samples['tactile'].float().to(device)\n",
        "            contacts = samples['contact'].float().to(device)\n",
        "\n",
        "            # forward pass contact_model\n",
        "            output = contact_model(tactiles)\n",
        "            # compute contact loss\n",
        "            loss = contact_criterion(output, contacts)\n",
        "\n",
        "            valid_loss += loss.item()\n",
        "\n",
        "    valid_losses.append(valid_loss / datalen_valid)\n",
        "\n",
        "    # save contact_model with torch.save\n",
        "    torch.save(contact_model.state_dict(), f\"contact_model_epoch_{epoch+1}.pth\")\n",
        "\n",
        "\n",
        "elapse = time.time() - start\n",
        "print('Time used (Sec): ', elapse, ' per epoch used: ', elapse / num_epochs)\n",
        "plot_losses(train_losses, valid_losses)"
      ]
    },
    {
      "cell_type": "code",
      "execution_count": null,
      "metadata": {
        "id": "G_U5hp60M4bY",
        "outputId": "083d0ca0-255c-4930-fa47-45808170acd7"
      },
      "outputs": [
        {
          "data": {
            "text/plain": [
              "<matplotlib.legend.Legend at 0x752d98fb3280>"
            ]
          },
          "execution_count": 59,
          "metadata": {},
          "output_type": "execute_result"
        },
        {
          "data": {
            "image/png": "[encoded data removed]",
            "text/plain": [
              "<Figure size 640x480 with 3 Axes>"
            ]
          },
          "metadata": {},
          "output_type": "display_data"
        }
      ],
      "source": [
        "plt.subplot(311)\n",
        "plt.plot(tl_b, label='train loss')\n",
        "plt.grid(True)\n",
        "plt.legend()\n",
        "\n",
        "plt.subplot(312)\n",
        "plt.plot(valid_loss, label='val loss')\n",
        "plt.grid(True)\n",
        "plt.legend()\n",
        "\n",
        "plt.subplot(313)\n",
        "plt.plot(tl_b, label='train loss')\n",
        "fml = np.mean(tl_b)\n",
        "plt.axhline(y = fml, color='r', linestyle='-', label='final mean train loss: {:.2f}'.format(fml))\n",
        "plt.grid(True)\n",
        "plt.legend()"
      ]
    },
    {
      "cell_type": "code",
      "execution_count": 41,
      "metadata": {
        "colab": {
          "base_uri": "https://localhost:8080/",
          "height": 524
        },
        "id": "j4biVNO6M8es",
        "outputId": "2e93f2d0-b44b-4162-9e9b-8a942eeb0f51"
      },
      "outputs": [
        {
          "name": "stdout",
          "output_type": "stream",
          "text": [
            "\n",
            "Epoch [1/1]\n",
            "> Time used (Sec):  243.36922597885132  per epoch used:  243.36922597885132\n"
          ]
        },
        {
          "data": {
            "image/png": "[encoded data removed]",
            "text/plain": [
              "<Figure size 640x480 with 1 Axes>"
            ]
          },
          "metadata": {},
          "output_type": "display_data"
        }
      ],
      "source": [
        "## Tactile Depth Model\n",
        "train_losses_, valid_losses_ = [], []\n",
        "tl_b_ = []\n",
        "start = time.time()\n",
        "for epoch in range(num_epochs):\n",
        "    print(f\"\\nEpoch [{epoch+1}/{num_epochs}]\")\n",
        "    print('>', end=' ')\n",
        "\n",
        "    train_loss = 0\n",
        "    tactile_depth_model.train()\n",
        "    for i, samples in enumerate(dataloader_train):\n",
        "\n",
        "        tactiles = samples['tactile'].float().to(device)\n",
        "        depths = samples['depth'].float().to(device)\n",
        "\n",
        "        # results from contact\n",
        "        with torch.no_grad():\n",
        "            contact_output = contact_model(tactiles)\n",
        "        # forward pass\n",
        "        depth_pred = tactile_depth_model(tactiles, contact_output)\n",
        "        loss = tactile_depth_criterion(depth_pred, depths)\n",
        "        # backward pass\n",
        "        tactile_depth_optimizer.zero_grad()\n",
        "        loss.backward()\n",
        "        tactile_depth_optimizer.step()\n",
        "        # optimization\n",
        "\n",
        "        train_loss += loss.item()\n",
        "        tl_b_.append(loss.item())\n",
        "\n",
        "    train_losses_.append(train_loss / datalen_train)\n",
        "\n",
        "    valid_loss = 0\n",
        "    tactile_depth_model.eval()\n",
        "    contact_model.eval()\n",
        "    with torch.no_grad():\n",
        "        for i, samples in enumerate(dataloader_valid):\n",
        "\n",
        "            tactiles = samples['tactile'].float().to(device)\n",
        "            depths = samples['depth'].float().to(device)\n",
        "\n",
        "            # results from tactile_depth network\n",
        "            tactile_depth_model.eval()\n",
        "            with torch.no_grad():\n",
        "                contact_output = contact_model(tactiles)\n",
        "            # forward pass tactile_depth_model\n",
        "            depth_pred = tactile_depth_model(tactiles, contact_output)\n",
        "            # compute loss from tactile_depth_criterion\n",
        "            loss = tactile_depth_criterion(depth_pred, depths)\n",
        "\n",
        "            valid_loss += loss.item()\n",
        "    valid_losses_.append(valid_loss / datalen_valid)\n",
        "\n",
        "    # save save tactile_depth_model with torch.save\n",
        "    torch.save(tactile_depth_model.state_dict(), f\"tactile_depth_model_epoch_{epoch+1}.pth\")\n",
        "\n",
        "elapse = time.time() - start\n",
        "print('Time used (Sec): ', elapse, ' per epoch used: ', elapse / num_epochs)\n",
        "plot_losses(train_losses_, valid_losses_)"
      ]
    },
    {
      "cell_type": "markdown",
      "metadata": {},
      "source": []
    },
    {
      "cell_type": "markdown",
      "metadata": {
        "id": "sultWNq0tS9B"
      },
      "source": [
        "## Step 5: Evaluation *(10 points)*"
      ]
    },
    {
      "cell_type": "code",
      "execution_count": null,
      "metadata": {},
      "outputs": [],
      "source": [
        "def depth_metrics(pred, gt, eps=1e-6):\n",
        "    \"\"\"Compute common depth estimation metrics.\"\"\"\n",
        "    pred = pred.clamp(min=eps)\n",
        "    gt = gt.clamp(min=eps)\n",
        "    error = torch.abs(gt - pred)\n",
        "\n",
        "    abs_rel = torch.mean(error / gt)\n",
        "    sq_rel  = torch.mean((error ** 2) / gt)\n",
        "    rmse    = torch.sqrt(torch.mean((error) ** 2))\n",
        "    rmse_log = torch.sqrt(torch.mean((torch.log(gt) - torch.log(pred)) ** 2))\n",
        "\n",
        "    ratio = torch.max(gt / pred, pred / gt)\n",
        "    delta1 = torch.mean((ratio < 1.25).float())\n",
        "    delta2 = torch.mean((ratio < 1.25 ** 2).float())\n",
        "    delta3 = torch.mean((ratio < 1.25 ** 3).float())\n",
        "\n",
        "    return {\n",
        "        'Abs Relative difference': abs_rel.item(),\n",
        "        'Squared Relative difference': sq_rel.item(),\n",
        "        'RMSE (Linear)': rmse.item(),\n",
        "        'RMSE (log)': rmse_log.item(),\n",
        "        'threshold δ < 1.25': delta1.item(),\n",
        "        'threshold δ < 1.25^2': delta2.item(),\n",
        "        'threshold δ < 1.25^3': delta3.item()\n",
        "    }"
      ]
    },
    {
      "cell_type": "code",
      "execution_count": null,
      "metadata": {
        "id": "xhzumLf9Pqs-"
      },
      "outputs": [],
      "source": [
        "## Evaluation\n",
        "## You should evaluate multiple error and accuracy metrics that are used for depth estimation. Some of them are mentioned in Section 4.3 in https://arxiv.org/pdf/1406.2283.pdf\n",
        "## Provide per-object metric results and discuss how object shape influences the performance of your method.\n",
        "#outputs = np.array([])\n",
        "metrics_list = []\n",
        "fig, axes = plt.subplots(10, 3, figsize=(9, 25))\n",
        "#fig.suptitle(\"Tactile Image | Predicted Depth | Predicted Contact\", fontsize=14)\n",
        "\n",
        "for i, samples in enumerate(dataloader_valid):\n",
        "    if i >= 10:\n",
        "        break\n",
        "    tactiles = samples['tactile'].float().to(device)\n",
        "    depths = samples['depth'].float().to(device)\n",
        "\n",
        "    # results from contact network\n",
        "    contact_model.eval()\n",
        "    with torch.no_grad():\n",
        "        contact_output = contact_model(tactiles)\n",
        "        #contact_output = contact_model(tactiles).unsqueeze(1)\n",
        "        #contact_output = torch.sigmoid(contact_output) #do we need this?\n",
        "\n",
        "    # results from tactile depth network\n",
        "    tactile_depth_model.eval()\n",
        "    with torch.no_grad():\n",
        "        tactile_depth_output = tactile_depth_model(tactiles, contact_output)\n",
        "\n",
        "     # Compute metrics on depth\n",
        "    m = depth_metrics(tactile_depth_output, depths)\n",
        "    metrics_list.append(m)\n",
        "\n",
        "    #code below for plotting\n",
        "    img = tactiles[0].permute(1, 2, 0).cpu()\n",
        "    depth_vis = tactile_depth_output[0, 0].cpu()\n",
        "    contact_vis = contact_output[0, 0].cpu()\n",
        "\n",
        "    axes[i, 0].imshow(img, cmap='gray')\n",
        "    axes[i, 0].set_title(\"Tactile Input\")\n",
        "    axes[i, 1].imshow(depth_vis, cmap='inferno')\n",
        "    axes[i, 1].set_title(\"Predicted Depth\")\n",
        "    axes[i, 2].imshow(contact_vis, cmap='gray')\n",
        "    axes[i, 2].set_title(\"Predicted Contact\")\n",
        "\n",
        "# show 10 sample images (from both the train and test sets) in a subplot figure.\n",
        "#  Each row should represent a tactile image, and there should be three columns: \n",
        "# the original image, the predicted depth, and the predicted contact.\n",
        "for ax in axes.flat:\n",
        "    ax.axis('off')\n",
        "\n",
        "plt.tight_layout()\n",
        "plt.show()\n",
        "\n",
        "metrics_avg = {k: np.mean([m[k] for m in metrics_list]) for k in metrics_list[0]}\n",
        "print(\"Validation Metrics:\")\n",
        "for k, v in metrics_avg.items():\n",
        "    print(f\"{k:8s}: {v:.4f}\")"
      ]
    },
    {
      "cell_type": "markdown",
      "metadata": {
        "id": "zJXupezGOUjn"
      },
      "source": [
        "Define a function below that instantializes the networks again and loads the weights for new predictions. This function will be used for testing purposes."
      ]
    },
    {
      "cell_type": "code",
      "execution_count": null,
      "metadata": {
        "id": "xBl5YGk2OH3O"
      },
      "outputs": [],
      "source": [
        "def predict(tactile_image):\n",
        "  # Re-instantiate models\n",
        "  contact_model = ContactNet(init=True).to(device)\n",
        "  tactile_depth_model = TactileDepthNet(init=True).to(device)\n",
        "  contact_model.eval()\n",
        "  tactile_depth_model.eval()\n",
        "\n",
        "  with torch.no_grad():\n",
        "      tactile_image = tactile_image.unsqueeze(0).to(device)  # add batch dim\n",
        "      coarse = contact_model(tactile_image)\n",
        "      depth  = tactile_depth_model(tactile_image, coarse)\n",
        "      contact = torch.sigmoid(coarse)  # convert logits to probabil\n",
        "\n",
        "  return contact, depth\n",
        "\n",
        "# for testing \n",
        "samples = next(iter(dataloader_valid))\n",
        "tactile_image = samples['tactile'][0]  # first image in batch\n",
        "predict(tactile_image)"
      ]
    },
    {
      "cell_type": "markdown",
      "metadata": {
        "id": "6hlwCi8WOr3u"
      },
      "source": [
        "**Grading Criteria:**\n",
        "\n",
        "\n"
      ]
    },
    {
      "cell_type": "markdown",
      "metadata": {
        "id": "eD2BntNOtXFE"
      },
      "source": [
        "Step 1: Data-loading => 10%\n",
        "\n",
        "Step 2: Network Design => 40%\n",
        "\n",
        "Step 3: Loss Function => 10%\n",
        "\n",
        "Step 4: Training Networks ==> 30%\n",
        "\n",
        "Step 5: Evaluations ==> 10%\n"
      ]
    },
    {
      "cell_type": "markdown",
      "metadata": {
        "id": "3YnSriupAg2A"
      },
      "source": [
        "Refrences:\n",
        "\n",
        "[1] [Depth Map Prediction from a Single Image\n",
        "using a Multi-Scale Deep Network](https://arxiv.org/pdf/1406.2283.pdf)\n",
        "\n",
        "[2] [MidasTouch: Monte-Carlo inference over\n",
        "distributions across sliding touch](https://arxiv.org/pdf/2210.14210.pdf)\n",
        "\n",
        "[3] [depth-eigen](https://github.com/shuuchen/depth_eigen/tree/master)\n"
      ]
    }
  ],
  "metadata": {
    "colab": {
      "include_colab_link": true,
      "provenance": []
    },
    "kernelspec": {
      "display_name": "Python 3",
      "name": "python3"
    },
    "language_info": {
      "codemirror_mode": {
        "name": "ipython",
        "version": 3
      },
      "file_extension": ".py",
      "mimetype": "text/x-python",
      "name": "python",
      "nbconvert_exporter": "python",
      "pygments_lexer": "ipython3",
      "version": "3.10.12"
    }
  },
  "nbformat": 4,
  "nbformat_minor": 0
}
