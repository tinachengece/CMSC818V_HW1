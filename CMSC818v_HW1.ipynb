{
  "cells": [
    {
      "cell_type": "markdown",
      "metadata": {
        "colab_type": "text",
        "id": "view-in-github"
      },
      "source": [
        "<a href=\"https://colab.research.google.com/github/tinachengece/CMSC818V_HW1/blob/main/CMSC818v_HW1.ipynb\" target=\"_parent\"><img src=\"https://colab.research.google.com/assets/colab-badge.svg\" alt=\"Open In Colab\"/></a>"
      ]
    },
    {
      "cell_type": "markdown",
      "metadata": {
        "id": "j7Jba4Pl3cOc"
      },
      "source": [
        "*UIDs:*"
      ]
    },
    {
      "cell_type": "markdown",
      "metadata": {
        "id": "2hTdZfoj3gzx"
      },
      "source": [
        "# **CMSC818v Homework 1: Tactile Depth Estimation**\n"
      ]
    },
    {
      "cell_type": "markdown",
      "metadata": {
        "id": "PBmN2f963tDd"
      },
      "source": [
        "## Objective\n",
        "\n",
        "In this project we want to use deep neural networks to predict 3D contact geometry from monocular images of a vision-based tactile sensor."
      ]
    },
    {
      "cell_type": "markdown",
      "metadata": {
        "id": "roJp2ogt7MaS"
      },
      "source": [
        "# Background\n",
        "\n",
        "  - **Tactile sensors** are devices designed to measure information arising from the physical interaction of robots with their environment. These sensors excel in detecting stimuli resulting from mechanical stimulation, temperature variations, and even pain-like responses.\n",
        "<p align=\"center\">\n",
        "  <img src=\"https://drive.google.com/uc?export=view&id=1dBNV2bzJVY4bS70TljKFSjzn7X40vY70\" alt=\"Digit on allgero\" width=\"450\"/>\n",
        "</p>\n",
        "However, recent sensor developments in this field, often inspired by the biological sense of cutaneous touch, have predominantly concentrated on capturing the 3D geometry of contact. In this project, we aim to extend this focus to predicting such interactions, particularly for GelSight tactile sensors. The figure below illustrates the resolution of tactile sensors when they come into contact with various objects\n",
        "<p align=\"center\">\n",
        "  <img src=\"https://drive.google.com/uc?export=view&id=1JtePPB9wisU5XdIZ56P_Omo_84QZmFGk\" alt=\"Digit images\"/>\n",
        "</p>\n",
        "The papers below contain crucial information on how these sensors work, which could be helpful for success in this project <br>\n",
        "<a href=\"http://gelsight.csail.mit.edu/wedge/ICRA2021_Wedge.pdf\"> GelSight Wedge: Measuring High-Resolution 3D Contact Geometry with a Compact Robot Finger</a><br>\n",
        "<a href=\"https://arxiv.org/pdf/2005.14679.pdf\">DIGIT: A Novel Design for a Low-Cost Compact\n",
        "High-Resolution Tactile Sensor with Application to\n",
        "In-Hand Manipulation</a>\n",
        "\n",
        "- **Depth Prediction** is the task of measuring the distance of each pixel relative to the camera. Depth is extracted from either monocular (single) or stereo (multiple views of a scene) images. Traditional methods use multi-view geometry to find the relationship between the images. Newer methods can directly estimate depth by minimizing the regression loss, or by learning to generate a novel view from a sequence. *You can also watch one of the recent works on reconstructing objects with tactile sensors on [YouTube](https://www.youtube.com/watch?v=38utg590wao)*.\n",
        "\n",
        "\n",
        "## Objective\n",
        "In this project, we aim to acquire the inverse sensor model to reconstruct local 3D geometry from a tactile image. The task involves training the model in a supervised manner to predict local heightmaps and contact areas from tactile images. While one potential strategy involves integrating depth and contact prediction within a stacked neural network, such as outlined in [Depth Map Prediction from a Single Image using a Multi-Scale Deep Network](https://arxiv.org/pdf/1406.2283.pdf), we encourage you to develop a working program for the specific challenges of the problem."
      ]
    },
    {
      "cell_type": "markdown",
      "metadata": {
        "id": "ZgobK5wdCU7x"
      },
      "source": [
        "## Step 1: Data-loading *(10 points)*\n",
        "Create a custom program to read images from the [provided dataset](https://drive.google.com/drive/folders/16BcGTVkj4s0y9kWM9vIFo40MdPjRRv7L?usp=drive_link). You might need to preprocess the data as these are raw tactile readings from sensor without any normalization. For further guidance, refer to the [PyTorch tutorial](https://pytorch.org/tutorials/beginner/data_loading_tutorial.html)."
      ]
    },
    {
      "cell_type": "code",
      "execution_count": 53,
      "metadata": {
        "colab": {
          "base_uri": "https://localhost:8080/",
          "height": 141
        },
        "id": "Db3PwLsjB8Pz",
        "outputId": "4898f309-1b14-4cd7-9cce-d2ac13b3982a"
      },
      "outputs": [
        {
          "name": "stdout",
          "output_type": "stream",
          "text": [
            "143\n"
          ]
        }
      ],
      "source": [
        "import torch\n",
        "import torch.nn as nn\n",
        "import torch.nn.functional as F\n",
        "import torchvision\n",
        "from torchvision import transforms, utils\n",
        "from skimage import transform\n",
        "from torch.utils.data import Dataset, DataLoader\n",
        "import numpy as np\n",
        "import matplotlib.pyplot as plt\n",
        "from IPython.core.pylabtools import figsize\n",
        "import time\n",
        "import os\n",
        "import re\n",
        "import tqdm\n",
        "import random\n",
        "from imageio import imread\n",
        "from pathlib import Path\n",
        "from PIL import Image, ImageFile\n",
        "import shutil\n",
        "import glob\n",
        "\n",
        "\n",
        "class TactileDataset(Dataset):\n",
        "\n",
        "    def __init__(self, tactile_dir, depth_dir, transform=None):\n",
        "        super(TactileDataset, self).__init__()\n",
        "\n",
        "        self.tactile_dir = tactile_dir\n",
        "        self.depth_dir = depth_dir\n",
        "        self.transform = transform\n",
        "\n",
        "        self.tactile_files = sorted(os.listdir(self.tactile_dir))\n",
        "        self.depth_files = sorted(os.listdir(self.depth_dir))\n",
        "\n",
        "    def __len__(self):\n",
        "        return len(os.listdir(self.tactile_dir))\n",
        "\n",
        "    def __getitem__(self, idx):\n",
        "        tactile_path = os.path.join(self.tactile_dir, self.tactile_files[idx])\n",
        "        depth_path = os.path.join(self.depth_dir, self.depth_files[idx])\n",
        "\n",
        "        # read as PIL images\n",
        "        tactile_sample = Image.open(tactile_path).convert(\"RGB\")\n",
        "        depth_sample = Image.open(depth_path).convert(\"L\")  # grayscale depth image\n",
        "\n",
        "        depth_np = np.array(depth_sample, dtype=np.float32)\n",
        "        contact_np = (depth_np > 0).astype(np.uint8) * 255\n",
        "        contact_sample = Image.fromarray(contact_np) # conatct sample can be retrieved from depth_sample where depth is greater than 0\n",
        "\n",
        "         # resize depth image if needed\n",
        "        if tactile_sample.size != depth_sample.size:\n",
        "            depth_sample = depth_sample.resize(tactile_sample.size, Image.BILINEAR)\n",
        "            \n",
        "        # train transform\n",
        "        seed = random.randint(0, 2 ** 32)\n",
        "        if self.transform:\n",
        "            random.seed(seed)\n",
        "            tactile_sample = self.transform(tactile_sample)\n",
        "\n",
        "            random.seed(seed)\n",
        "            depth_sample = self.transform(depth_sample)\n",
        "            \n",
        "            random.seed(seed)\n",
        "            contact_sample = self.transform(contact_sample)\n",
        "        else:\n",
        "            tactile_sample = transforms.ToTensor()(tactile_sample)\n",
        "            depth_sample = transforms.ToTensor()(depth_sample)\n",
        "            contact_sample = transforms.ToTensor()(contact_sample)\n",
        "       \n",
        "        # calculate contact mask based on depth\n",
        "\n",
        "\n",
        "        # convert to torch tensor\n",
        "        sample = {'tactile':tactile_sample, 'depth': depth_sample, 'contact': contact_sample}\n",
        "\n",
        "        return sample\n",
        "\n",
        "# Add some transformation based on your choice that suits the diversity you expect to see during testing. This step is one of the most important parts that can affect the model's performance.\n",
        "# you can check https://pytorch.org/vision/stable/transforms.html for existing augmentations\n",
        "trans_train = transforms.Compose([\n",
        "    transforms.Resize((320, 240)),\n",
        "    transforms.ToTensor()\n",
        "])\n",
        "\n",
        "trans_test = transforms.Compose([\n",
        "    transforms.Resize((320,240)), # resize to training images shape\n",
        "])\n",
        "\n",
        "## load data\n",
        "root_dir = Path(r\"/content/mini_depth_dataset\")\n",
        "\n",
        "# Create new folders to store the organized data\n",
        "data_dir_train = Path(r\"/content/mini_depth_dataset_processed/training\")\n",
        "data_dir_train.mkdir(parents=True, exist_ok=True)\n",
        "(data_dir_train / \"tactile\").mkdir(parents=True, exist_ok=True)\n",
        "(data_dir_train / \"depth\").mkdir(parents=True, exist_ok=True)\n",
        "data_dir_valid = Path(r\"/content/mini_depth_dataset_processed/validation\")\n",
        "data_dir_valid.mkdir(parents=True, exist_ok=True)\n",
        "(data_dir_valid / \"tactile\").mkdir(parents=True, exist_ok=True)\n",
        "(data_dir_valid / \"depth\").mkdir(parents=True, exist_ok=True)\n",
        "\n",
        "\n",
        "for category_dir in sorted(root_dir.iterdir()):\n",
        "    if category_dir.is_dir():\n",
        "        tactile_dir = category_dir / \"tactile\"\n",
        "        depth_dir = category_dir / \"depth\"\n",
        "\n",
        "        # print(f\"\\nCategory: {category_dir.name}\")\n",
        "\n",
        "        # Check if both subfolders exist\n",
        "        if tactile_dir.exists() and depth_dir.exists():\n",
        "            # List files\n",
        "            tactile_files = [f for f in tactile_dir.iterdir() if f.is_file()]\n",
        "            depth_files   = [f for f in depth_dir.iterdir() if f.is_file()]\n",
        "\n",
        "            # Compare by filename stem (the name without extension)\n",
        "            tactile_stems = {f.stem for f in tactile_files}\n",
        "            depth_stems   = {f.stem for f in depth_files}\n",
        "\n",
        "            # Find files that exist in both\n",
        "            matched_stems = sorted(tactile_stems.intersection(depth_stems))\n",
        "            # print(f\"{category_dir.name}: {len(matched_stems)} matched pairs found\")\n",
        "\n",
        "            # Split into training and validation\n",
        "            random.seed(42)\n",
        "            random.shuffle(matched_stems)\n",
        "            split_idx = int(0.7 * len(matched_stems))\n",
        "            train_stems = matched_stems[:split_idx]\n",
        "            valid_stems  = matched_stems[split_idx:]\n",
        "\n",
        "            # Copy matched files\n",
        "            for stem in train_stems:\n",
        "                # Find full path for each file\n",
        "                tactile_file = next(tactile_dir.glob(stem + \".*\"))\n",
        "                depth_file   = next(depth_dir.glob(stem + \".*\"))\n",
        "\n",
        "                tactile_file_new_name = f\"{category_dir.name}_{tactile_file.name}\"\n",
        "                depth_file_new_name = f\"{category_dir.name}_{depth_file.name}\"\n",
        "\n",
        "                shutil.copy(tactile_file, (data_dir_train / \"tactile\") / tactile_file_new_name)\n",
        "                shutil.copy(depth_file, (data_dir_train / \"depth\") / depth_file_new_name)\n",
        "\n",
        "            for stem in valid_stems:\n",
        "                # Find full path for each file\n",
        "                tactile_file = next(tactile_dir.glob(stem + \".*\"))\n",
        "                depth_file   = next(depth_dir.glob(stem + \".*\"))\n",
        "\n",
        "                tactile_file_new_name = f\"{category_dir.name}_{tactile_file.name}\"\n",
        "                depth_file_new_name = f\"{category_dir.name}_{depth_file.name}\"\n",
        "\n",
        "                shutil.copy(tactile_file, (data_dir_valid / \"tactile\") / tactile_file_new_name)\n",
        "                shutil.copy(depth_file, (data_dir_valid / \"depth\") / depth_file_new_name)\n",
        "        else:\n",
        "              print(f\"  Skipping {category_dir.name} (missing tactile/ or depth/ folder)\")\n",
        "\n",
        "dataset_train = TactileDataset(data_dir_train / 'tactile', data_dir_train / 'depth', transform=trans_train)\n",
        "dataloader_train = DataLoader(dataset_train, batch_size=bs, shuffle=True)\n",
        "\n",
        "dataset_valid = TactileDataset(data_dir_valid / 'tactile', data_dir_valid / 'depth', transform=trans_test)\n",
        "dataloader_valid = DataLoader(dataset_valid, batch_size=bs, shuffle=True)\n",
        "\n",
        "datalen_train = len(dataset_train)\n",
        "datalen_valid = len(dataset_valid)\n",
        "\n",
        "# print(datalen_train, datalen_valid)\n",
        "print(datalen_train)\n"
      ]
    },
    {
      "cell_type": "markdown",
      "metadata": {
        "id": "ie1cAAFjGXRy"
      },
      "source": [
        "## Step 2: Network Design *(40 point)*\n",
        "Design the neural network, incorporating various [layers](https://pytorch.org/docs/stable/nn.html). Additionally, consider initializing the layer weights using predefined [PyTorch initializers](https://pytorch.org/docs/stable/nn.init.html). Inpired by [1], you may use Coarse network for contact prediction and a Fine network for depth prediction, providing higher resolution.\n",
        "<p align=\"center\">\n",
        "  <img src=\"https://drive.google.com/uc?export=view&id=1_IJxSfYNjsU6wkE0QwSMF4LSvENuJPRL\" alt=\"Digit images\"/>\n",
        "</p>\n"
      ]
    },
    {
      "cell_type": "code",
      "execution_count": 54,
      "metadata": {
        "id": "i661yrn_FXdG"
      },
      "outputs": [],
      "source": [
        "device = torch.device(\"cuda\" if torch.cuda.is_available() else \"cpu\")\n",
        "\n",
        "def init_weights(m):\n",
        "    if isinstance(m, (nn.Conv2d, nn.ConvTranspose2d)):\n",
        "        nn.init.kaiming_normal_(m.weight, mode='fan_out', nonlinearity='relu')\n",
        "        if m.bias is not None:\n",
        "            nn.init.constant_(m.bias, 0)\n",
        "    elif isinstance(m, (nn.BatchNorm2d, nn.GroupNorm)):\n",
        "        nn.init.constant_(m.weight, 1)\n",
        "        nn.init.constant_(m.bias, 0)\n",
        "\n",
        "class ContactNet(nn.Module):\n",
        "\n",
        "    def __init__(self, init=True):\n",
        "      super(ContactNet, self).__init__()\n",
        "      # define your network layers that takes tactile image and outputs the predicted contact mask\n",
        "      # Encoder (downsample)\n",
        "      self.enc = nn.Sequential(\n",
        "          nn.Conv2d(3, 32, kernel_size=5, stride=2, padding=2),\n",
        "          nn.BatchNorm2d(32), nn.ReLU(inplace=True),\n",
        "\n",
        "          nn.Conv2d(32, 64, kernel_size=5, stride=2, padding=2),\n",
        "          nn.BatchNorm2d(64), nn.ReLU(inplace=True),\n",
        "\n",
        "          nn.Conv2d(64, 128, kernel_size=3, stride=2, padding=1),\n",
        "          nn.BatchNorm2d(128), nn.ReLU(inplace=True),\n",
        "\n",
        "          nn.Conv2d(128, 256, kernel_size=3, stride=2, padding=1),\n",
        "          nn.BatchNorm2d(256), nn.ReLU(inplace=True)\n",
        "      )\n",
        "\n",
        "        # Decoder (upsample)\n",
        "      self.dec = nn.Sequential(\n",
        "          nn.ConvTranspose2d(256, 128, 4, stride=2, padding=1),\n",
        "          nn.BatchNorm2d(128), nn.ReLU(inplace=True),\n",
        "\n",
        "          nn.ConvTranspose2d(128, 64, 4, stride=2, padding=1),\n",
        "          nn.BatchNorm2d(64), nn.ReLU(inplace=True),\n",
        "\n",
        "          nn.ConvTranspose2d(64, 32, 4, stride=2, padding=1),\n",
        "          nn.BatchNorm2d(32), nn.ReLU(inplace=True),\n",
        "\n",
        "          nn.ConvTranspose2d(32, 1, 4, stride=2, padding=1)\n",
        "      )\n",
        "\n",
        "      if init:\n",
        "          self.apply(init_weights)\n",
        "\n",
        "    def forward(self, x):\n",
        "        feat = self.enc(x)\n",
        "        c = self.dec(feat)\n",
        "        # no sigmoid here; use BCEWithLogitsLoss later\n",
        "        return c  # [B,1,H,W]\n",
        "\n",
        "\n",
        "\n",
        "class TactileDepthNet(nn.Module):\n",
        "\n",
        "    def __init__(self, init=True):\n",
        "        super(TactileDepthNet, self).__init__()\n",
        "        # define your network layers that takes tactile image and outputs the predicted depth (heightmap)\n",
        "        # Combine tactile image (3ch) + coarse contact (1ch)\n",
        "        in_channels = 4\n",
        "\n",
        "         # Encoder\n",
        "        self.enc = nn.Sequential(\n",
        "            nn.Conv2d(in_channels, 64, 5, stride=2, padding=2),\n",
        "            nn.BatchNorm2d(64), nn.ReLU(inplace=True),\n",
        "\n",
        "            nn.Conv2d(64, 128, 3, stride=2, padding=1),\n",
        "            nn.BatchNorm2d(128), nn.ReLU(inplace=True),\n",
        "\n",
        "            nn.Conv2d(128, 256, 3, stride=2, padding=1),\n",
        "            nn.BatchNorm2d(256), nn.ReLU(inplace=True)\n",
        "        )\n",
        "\n",
        "        # Decoder\n",
        "        self.dec = nn.Sequential(\n",
        "            nn.ConvTranspose2d(256, 128, 4, stride=2, padding=1),\n",
        "            nn.BatchNorm2d(128), nn.ReLU(inplace=True),\n",
        "\n",
        "            nn.ConvTranspose2d(128, 64, 4, stride=2, padding=1),\n",
        "            nn.BatchNorm2d(64), nn.ReLU(inplace=True),\n",
        "\n",
        "            nn.ConvTranspose2d(64, 32, 4, stride=2, padding=1),\n",
        "            nn.BatchNorm2d(32), nn.ReLU(inplace=True),\n",
        "\n",
        "            nn.Conv2d(32, 1, 3, stride=1, padding=1)  # final depth map\n",
        "        )\n",
        "\n",
        "        if init:\n",
        "            self.apply(init_weights)\n",
        "\n",
        "    def forward(self, x, contact_output_batch):\n",
        "        # upsample contact prediction to match tactile image size\n",
        "        contact_upsampled = F.interpolate(contact_output_batch, size=x.shape[2:], mode='bilinear', align_corners=False)\n",
        "        # concatenate along channel dimension\n",
        "        x_in = torch.cat([x, contact_upsampled], dim=1)\n",
        "        feat = self.enc(x_in)\n",
        "        d = self.dec(feat)\n",
        "        return d  # [B,1,H,W]\n",
        "\n",
        "# initialize\n",
        "contact_model = ContactNet(init=False).to(device)\n",
        "tactile_depth_model = TactileDepthNet(init=False).to(device)\n",
        "\n",
        "#print(contact_model)"
      ]
    },
    {
      "cell_type": "markdown",
      "metadata": {
        "id": "Pm32-lpXJuN-"
      },
      "source": [
        "## Step 3: Loss Function *(10 points)*\n"
      ]
    },
    {
      "cell_type": "code",
      "execution_count": 55,
      "metadata": {
        "id": "Bl_mvm8JJtlx"
      },
      "outputs": [],
      "source": [
        "class Loss(nn.Module):\n",
        "  def __init__(self, task=\"depth\"):\n",
        "        super(Loss, self).__init__()\n",
        "        if task == \"depth\":\n",
        "            # continuous regression → use L1 or SmoothL1\n",
        "            self.loss_fn = nn.L1Loss()\n",
        "        elif task == \"contact\":\n",
        "            # binary segmentation → use BCEWithLogitsLoss\n",
        "            self.loss_fn = nn.BCEWithLogitsLoss()\n",
        "        else:\n",
        "            raise ValueError(f\"Unknown task type: {task}\")\n",
        "\n",
        "  def forward(self, pred, target):\n",
        "      # define the loss function based on the task and your expection of network's output\n",
        "      loss = self.loss_fn(pred, target)\n",
        "      return loss\n",
        "\n",
        "#criterion\n",
        "contact_criterion = Loss(task=\"contact\")      # for contact mask\n",
        "tactile_depth_criterion = Loss(task=\"depth\")  # for heightmap/depth\n",
        "\n",
        "# optimizer\n",
        "contact_optimizer = torch.optim.Adam(contact_model.parameters(), lr=1e-4)\n",
        "#contact_optimizer = torch.optim.\n",
        "tactile_depth_optimizer = torch.optim.Adam(tactile_depth_model.parameters(), lr=1e-4)\n",
        "\n",
        "#tactile_depth_optimizer = torch.optim.\n",
        "\n",
        "# data parallel\n",
        "# contact_model = nn.DataParallel(contact_model)\n",
        "# tactile_depth_model = nn.DataParallel(tactile_depth_model)"
      ]
    },
    {
      "cell_type": "code",
      "execution_count": 56,
      "metadata": {
        "id": "i1NK7kZ4LSwZ"
      },
      "outputs": [],
      "source": [
        "def plot_losses(train_losses, valid_losses):\n",
        "    plt.plot(train_losses, label='train losses')\n",
        "    plt.plot(valid_losses, label='valid losses')\n",
        "\n",
        "    plt.xlabel(\"Iterations\")\n",
        "    plt.ylabel(\"Losses\")\n",
        "\n",
        "    plt.legend()\n",
        "    plt.title(\"Losses\")\n",
        "    plt.grid(True)"
      ]
    },
    {
      "cell_type": "markdown",
      "metadata": {
        "id": "PIq9R2ZBLkEq"
      },
      "source": [
        "## Step 4: Training Networks *(30 points)*"
      ]
    },
    {
      "cell_type": "code",
      "execution_count": 58,
      "metadata": {
        "id": "7fKKVtAeLjRW"
      },
      "outputs": [
        {
          "name": "stderr",
          "output_type": "stream",
          "text": [
            "  0%|          | 0/1 [00:00<?, ?it/s]"
          ]
        },
        {
          "name": "stdout",
          "output_type": "stream",
          "text": [
            "\n",
            "Epoch [1/1]\n"
          ]
        },
        {
          "name": "stderr",
          "output_type": "stream",
          "text": [
            "100%|██████████| 1/1 [00:32<00:00, 32.13s/it]\n"
          ]
        },
        {
          "name": "stdout",
          "output_type": "stream",
          "text": [
            "Time used (Sec):  32.13285827636719  per epoch used:  32.13285827636719\n"
          ]
        },
        {
          "data": {
            "image/png": "[encoded data removed]",
            "text/plain": [
              "<Figure size 640x480 with 1 Axes>"
            ]
          },
          "metadata": {},
          "output_type": "display_data"
        }
      ],
      "source": [
        "num_epochs = 1\n",
        "\n",
        "## Contact Model\n",
        "train_losses = []\n",
        "valid_losses = []\n",
        "tl_b = []\n",
        "\n",
        "start = time.time()\n",
        "for epoch in tqdm.tqdm(range(num_epochs)):\n",
        "    print(f\"\\nEpoch [{epoch+1}/{num_epochs}]\")\n",
        "\n",
        "    # --- TRAINING ---\n",
        "    train_loss = 0\n",
        "    contact_model.train()\n",
        "    for i, samples in enumerate(dataloader_train):\n",
        "\n",
        "        tactiles = samples['tactile'].float().to(device)\n",
        "        contacts = samples['contact'].float().to(device)\n",
        "\n",
        "        # forward pass\n",
        "        output = contact_model(tactiles)\n",
        "\n",
        "        # compute contact loss\n",
        "        loss = contact_criterion(output, contacts)\n",
        "\n",
        "        # backward pass\n",
        "        contact_optimizer.zero_grad()\n",
        "        loss.backward()\n",
        "        contact_optimizer.step()\n",
        "\n",
        "        # optimization\n",
        "        train_loss += loss.item()\n",
        "        tl_b.append(loss.item())\n",
        "\n",
        "    train_losses.append(train_loss / datalen_train)\n",
        "\n",
        "    # --- VALIDATION ---\n",
        "    valid_loss = 0\n",
        "    contact_model.eval()\n",
        "    with torch.no_grad():\n",
        "        for i, samples in enumerate(dataloader_valid):\n",
        "\n",
        "            tactiles = samples['tactile'].float().to(device)\n",
        "            contacts = samples['contact'].float().to(device)\n",
        "\n",
        "            # forward pass contact_model\n",
        "            output = contact_model(tactiles)\n",
        "            # compute contact loss\n",
        "            loss = contact_criterion(output, contacts)\n",
        "\n",
        "            valid_loss += loss.item()\n",
        "\n",
        "    valid_losses.append(valid_loss / datalen_valid)\n",
        "\n",
        "    # save contact_model with torch.save\n",
        "    torch.save(contact_model.state_dict(), f\"contact_model_epoch_{epoch+1}.pth\")\n",
        "\n",
        "\n",
        "elapse = time.time() - start\n",
        "print('Time used (Sec): ', elapse, ' per epoch used: ', elapse / num_epochs)\n",
        "plot_losses(train_losses, valid_losses)"
      ]
    },
    {
      "cell_type": "code",
      "execution_count": 59,
      "metadata": {
        "id": "G_U5hp60M4bY"
      },
      "outputs": [
        {
          "data": {
            "text/plain": [
              "<matplotlib.legend.Legend at 0x752d98fb3280>"
            ]
          },
          "execution_count": 59,
          "metadata": {},
          "output_type": "execute_result"
        },
        {
          "data": {
            "image/png": "[encoded data removed]",
            "text/plain": [
              "<Figure size 640x480 with 3 Axes>"
            ]
          },
          "metadata": {},
          "output_type": "display_data"
        }
      ],
      "source": [
        "plt.subplot(311)\n",
        "plt.plot(tl_b, label='train loss')\n",
        "plt.grid(True)\n",
        "plt.legend()\n",
        "\n",
        "plt.subplot(312)\n",
        "plt.plot(valid_loss, label='val loss')\n",
        "plt.grid(True)\n",
        "plt.legend()\n",
        "\n",
        "plt.subplot(313)\n",
        "plt.plot(tl_b, label='train loss')\n",
        "fml = np.mean(tl_b)\n",
        "plt.axhline(y = fml, color='r', linestyle='-', label='final mean train loss: {:.2f}'.format(fml))\n",
        "plt.grid(True)\n",
        "plt.legend()"
      ]
    },
    {
      "cell_type": "code",
      "execution_count": 62,
      "metadata": {
        "id": "j4biVNO6M8es"
      },
      "outputs": [
        {
          "name": "stdout",
          "output_type": "stream",
          "text": [
            "\n",
            "Epoch [1/1]\n",
            "> Time used (Sec):  129.1482720375061  per epoch used:  129.1482720375061\n"
          ]
        },
        {
          "data": {
            "image/png": "[encoded data removed]",
            "text/plain": [
              "<Figure size 640x480 with 1 Axes>"
            ]
          },
          "metadata": {},
          "output_type": "display_data"
        }
      ],
      "source": [
        "## Tactile Depth Model\n",
        "train_losses_, valid_losses_ = [], []\n",
        "tl_b_ = []\n",
        "start = time.time()\n",
        "for epoch in range(num_epochs):\n",
        "    print(f\"\\nEpoch [{epoch+1}/{num_epochs}]\")\n",
        "    print('>', end=' ')\n",
        "\n",
        "    train_loss = 0\n",
        "    tactile_depth_model.train()\n",
        "    for i, samples in enumerate(dataloader_train):\n",
        "\n",
        "        tactiles = samples['tactile'].float().to(device)\n",
        "        depths = samples['depth'].float().to(device)\n",
        "\n",
        "        # results from contact\n",
        "        with torch.no_grad():\n",
        "            contact_output = contact_model(tactiles)\n",
        "        # forward pass\n",
        "        depth_pred = tactile_depth_model(tactiles, contact_output)\n",
        "        loss = tactile_depth_criterion(depth_pred, depths)\n",
        "        # backward pass\n",
        "        tactile_depth_optimizer.zero_grad()\n",
        "        loss.backward()\n",
        "        tactile_depth_optimizer.step()\n",
        "        # optimization\n",
        "\n",
        "        train_loss += loss.item()\n",
        "        tl_b_.append(loss.item())\n",
        "\n",
        "    train_losses_.append(train_loss / datalen_train)\n",
        "\n",
        "    valid_loss = 0\n",
        "    tactile_depth_model.eval()\n",
        "    contact_model.eval()\n",
        "    with torch.no_grad():\n",
        "        for i, samples in enumerate(dataloader_valid):\n",
        "\n",
        "            tactiles = samples['tactile'].float().to(device)\n",
        "            depths = samples['depth'].float().to(device)\n",
        "\n",
        "            # results from tactile_depth network\n",
        "            tactile_depth_model.eval()\n",
        "            with torch.no_grad():\n",
        "                contact_output = contact_model(tactiles)\n",
        "            # forward pass tactile_depth_model\n",
        "            depth_pred = tactile_depth_model(tactiles, contact_output)\n",
        "            # compute loss from tactile_depth_criterion\n",
        "            loss = tactile_depth_criterion(depth_pred, depths)\n",
        "\n",
        "            valid_loss += loss.item()\n",
        "    valid_losses_.append(valid_loss / datalen_valid)\n",
        "\n",
        "    # save save tactile_depth_model with torch.save\n",
        "    torch.save(tactile_depth_model.state_dict(), f\"tactile_depth_model_epoch_{epoch+1}.pth\")\n",
        "\n",
        "elapse = time.time() - start\n",
        "print('Time used (Sec): ', elapse, ' per epoch used: ', elapse / num_epochs)\n",
        "plot_losses(train_losses_, valid_losses_)"
      ]
    },
    {
      "cell_type": "markdown",
      "metadata": {
        "id": "sultWNq0tS9B"
      },
      "source": [
        "## Step 5: Evaluation *(10 points)*"
      ]
    },
    {
      "cell_type": "code",
      "execution_count": null,
      "metadata": {
        "id": "xhzumLf9Pqs-"
      },
      "outputs": [],
      "source": [
        "## Evaluation\n",
        "## You should evaluate multiple error and accuracy metrics that are used for depth estimation. Some of them are mentioned in Section 4.3 in https://arxiv.org/pdf/1406.2283.pdf\n",
        "## Provide per-object metric results and discuss how object shape influences the performance of your method.\n",
        "outputs = no.array([])\n",
        "for i, samples in enumerate(dataloader_valid):\n",
        "\n",
        "    tactiles = samples['tactile'].float().to(device)\n",
        "    depths = samples['depth'].float().to(device)\n",
        "\n",
        "    # results from contact network\n",
        "    contact_model.eval()\n",
        "    with torch.no_grad():\n",
        "        contact_output = contact_model(tactiles).unsqueeze(1)\n",
        "\n",
        "    # results from tactile depth network\n",
        "    tactile_depth_model.eval()\n",
        "    with torch.no_grad():\n",
        "        tactile_depth_output = tactile_depth_model(tactiles, contact_output)\n",
        "    break\n",
        "\n",
        "# show 10 sample images (from both the train and test sets) in a subplot figure. Each row should represent a tactile image, and there should be three columns: the original image, the predicted depth, and the predicted contact."
      ]
    },
    {
      "cell_type": "markdown",
      "metadata": {
        "id": "zJXupezGOUjn"
      },
      "source": [
        "Define a function below that instantializes the networks again and loads the weights for new predictions. This function will be used for testing purposes."
      ]
    },
    {
      "cell_type": "code",
      "execution_count": null,
      "metadata": {
        "id": "xBl5YGk2OH3O"
      },
      "outputs": [],
      "source": [
        "def predict(tactile_image):\n",
        "\n",
        "  return contact, depth"
      ]
    },
    {
      "cell_type": "markdown",
      "metadata": {
        "id": "6hlwCi8WOr3u"
      },
      "source": [
        "**Grading Criteria:**\n",
        "\n",
        "\n"
      ]
    },
    {
      "cell_type": "markdown",
      "metadata": {
        "id": "eD2BntNOtXFE"
      },
      "source": [
        "Step 1: Data-loading => 10%\n",
        "\n",
        "Step 2: Network Design => 40%\n",
        "\n",
        "Step 3: Loss Function => 10%\n",
        "\n",
        "Step 4: Training Networks ==> 30%\n",
        "\n",
        "Step 5: Evaluations ==> 10%\n"
      ]
    },
    {
      "cell_type": "markdown",
      "metadata": {
        "id": "3YnSriupAg2A"
      },
      "source": [
        "Refrences:\n",
        "\n",
        "[1] [Depth Map Prediction from a Single Image\n",
        "using a Multi-Scale Deep Network](https://arxiv.org/pdf/1406.2283.pdf)\n",
        "\n",
        "[2] [MidasTouch: Monte-Carlo inference over\n",
        "distributions across sliding touch](https://arxiv.org/pdf/2210.14210.pdf)\n",
        "\n",
        "[3] [depth-eigen](https://github.com/shuuchen/depth_eigen/tree/master)\n"
      ]
    }
  ],
  "metadata": {
    "colab": {
      "include_colab_link": true,
      "provenance": []
    },
    "kernelspec": {
      "display_name": "Python 3",
      "name": "python3"
    },
    "language_info": {
      "codemirror_mode": {
        "name": "ipython",
        "version": 3
      },
      "file_extension": ".py",
      "mimetype": "text/x-python",
      "name": "python",
      "nbconvert_exporter": "python",
      "pygments_lexer": "ipython3",
      "version": "3.10.12"
    }
  },
  "nbformat": 4,
  "nbformat_minor": 0
}
